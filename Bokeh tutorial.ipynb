{
 "metadata": {
  "name": ""
 },
 "nbformat": 3,
 "nbformat_minor": 0,
 "worksheets": [
  {
   "cells": [
    {
     "cell_type": "markdown",
     "metadata": {},
     "source": [
      "Walk through quickstart guide\n",
      "=============================\n",
      "\n",
      "- output_server\n",
      "- output_file \n",
      "- output_notebook"
     ]
    },
    {
     "cell_type": "markdown",
     "metadata": {},
     "source": [
      "We are going to walk through the [quickstart](http://bokeh.pydata.org/quickstart.html) file here.  execute each line by pressing CTRL-Enter\n"
     ]
    },
    {
     "cell_type": "code",
     "collapsed": false,
     "input": [
      "!git clone https://github.com/ContinuumIO/bokeh.git\n"
     ],
     "language": "python",
     "metadata": {},
     "outputs": [
      {
       "output_type": "stream",
       "stream": "stdout",
       "text": [
        "fatal: destination path 'bokeh' already exists and is not an empty directory.\r\n"
       ]
      },
      {
       "output_type": "stream",
       "stream": "stdout",
       "text": [
        "__init__.py       correlation.py    iris.py           markers.py        stocks.py\r\n",
        "candlestick.py    glucose.py        legend.py         rect.py           texas.py\r\n",
        "choropleth.py     glyphs.py         line.py           relative_paths.py vector.py\r\n",
        "color_scatter.py  grid.py           lorenz.py         scatter.py\r\n",
        "python: can't open file 'iris.py': [Errno 2] No such file or directory\r\n"
       ]
      }
     ],
     "prompt_number": 6
    },
    {
     "cell_type": "markdown",
     "metadata": {},
     "source": [
      "first an example from the static plotting system.  "
     ]
    },
    {
     "cell_type": "code",
     "collapsed": false,
     "input": [
      "!python bokeh/examples/plotting/file/iris.py\n",
      "print open(\"bokeh/examples/plotting/file/iris.py\").read()"
     ],
     "language": "python",
     "metadata": {},
     "outputs": [
      {
       "output_type": "stream",
       "stream": "stdout",
       "text": [
        "Session output file 'iris.html' already exists, will be overwritten.\r\n"
       ]
      },
      {
       "output_type": "stream",
       "stream": "stdout",
       "text": [
        "\n",
        "from bokeh.sampledata.iris import flowers\n",
        "from bokeh.plotting import *\n",
        "\n",
        "output_file(\"iris.html\", title=\"iris.py example\")\n",
        "\n",
        "colormap = {'setosa': 'red', 'versicolor': 'green', 'virginica': 'blue'}\n",
        "\n",
        "flowers['color'] = flowers['species'].map(lambda x: colormap[x])\n",
        "\n",
        "\n",
        "#setting the name kwarg will give this scatter plot a user\n",
        "#friendly id, and the corresponding embed.js will have a nice name\n",
        "#too\n",
        "\n",
        "scatter(flowers[\"petal_length\"], flowers[\"petal_width\"], \n",
        "        color=flowers[\"color\"], fill_alpha=0.2, radius=5, name=\"iris\")\n",
        "\n",
        "\n",
        "if __name__ == \"__main__\":\n",
        "    # open a browser\n",
        "    show()\n",
        "\n"
       ]
      }
     ],
     "prompt_number": 32
    },
    {
     "cell_type": "markdown",
     "metadata": {},
     "source": [
      "[iris.py](https://github.com/ContinuumIO/bokeh/blob/master/examples/plotting/file/iris.py)"
     ]
    },
    {
     "cell_type": "code",
     "collapsed": false,
     "input": [
      "#since we can't background a command from the notebook \n",
      "open(\"daemon-bokeh.sh\", \"w\").write(\"\"\"\n",
      "#!/bin/bash\n",
      "cd bokeh\n",
      "nohup ./bokeh-server &\"\"\")\n",
      "!chmod +x daemon-bokeh.sh\n",
      "!./daemon-bokeh.sh\n",
      "!ps ax| grep bokeh"
     ],
     "language": "python",
     "metadata": {},
     "outputs": [
      {
       "output_type": "stream",
       "stream": "stdout",
       "text": [
        " 4392   ??  R      0:00.10 python ./bokeh-server\r\n",
        " 4395 s019  Ss+    0:00.00 /bin/sh -c ps ax| grep bokeh\r\n",
        " 4397 s019  S+     0:00.00 grep bokeh\r\n"
       ]
      }
     ],
     "prompt_number": 27
    },
    {
     "cell_type": "markdown",
     "metadata": {},
     "source": [
      "Now that we have started the daemon, we can run some plotting examples."
     ]
    },
    {
     "cell_type": "code",
     "collapsed": false,
     "input": [
      "!python bokeh/examples/plotting/server/legend.py\n",
      "print open(\"bokeh/examples/plotting/server/legend.py\").read()"
     ],
     "language": "python",
     "metadata": {},
     "outputs": [
      {
       "output_type": "stream",
       "stream": "stdout",
       "text": [
        "Using plot server at http://localhost:5006/bokeh; Docname: legend.py example\r\n"
       ]
      },
      {
       "output_type": "stream",
       "stream": "stdout",
       "text": [
        "# The plot server must be running\n",
        "# Go to http://localhost:5006/bokeh to view this plot\n",
        "\n",
        "import numpy as np\n",
        "from bokeh.plotting import *\n",
        "\n",
        "N = 100\n",
        "\n",
        "x = np.linspace(0, 4*np.pi, N)\n",
        "y = np.sin(x)\n",
        "\n",
        "output_server(\"legend.py example\")\n",
        "\n",
        "hold()\n",
        "\n",
        "scatter(x,y, tools=\"pan,zoom,resize\", legend=\"sin(x)\")\n",
        "scatter(x,2*y, tools=\"pan,zoom,resize\", legend=\"2*sin(x)\")\n",
        "scatter(x,3*y, color=\"green\", tools=\"pan,zoom,resize\", legend=\"3*sin(x)\")\n",
        "\n",
        "figure()\n",
        "\n",
        "scatter(x, y, radius=2, tools=\"pan,zoom,resize,select\", legend=\"sin(x)\")\n",
        "line(x, y, radius=2, tools=\"pan,zoom,resize,select\", legend=\"sin(x)\")\n",
        "\n",
        "line(x, 2*y, line_dash=\"4 4\", line_color=\"orange\", line_width=2, legend=\"2*sin(x)\")\n",
        "\n",
        "scatter(x, 3*y, fill_color=None, line_color=\"green\", radius=4, legend=\"3*sin(x)\")\n",
        "line(x, 3*y, fill_color=None, line_color=\"green\", radius=4, legend=\"3*sin(x)\")\n",
        "\n",
        "show()\n",
        "\n"
       ]
      }
     ],
     "prompt_number": 33
    },
    {
     "cell_type": "markdown",
     "metadata": {},
     "source": [
      "At this point we no longer need to run the files themselves, we can run them all entirely inside the notebook"
     ]
    },
    {
     "cell_type": "code",
     "collapsed": false,
     "input": [],
     "language": "python",
     "metadata": {},
     "outputs": [],
     "prompt_number": 36
    },
    {
     "cell_type": "code",
     "collapsed": false,
     "input": [
      "import numpy as np\n",
      "from bokeh.plotting import *\n",
      "\n",
      "N = 100\n",
      "\n",
      "x = np.linspace(0, 4*np.pi, N)\n",
      "y = np.sin(x)\n",
      "\n",
      "output_server(\"legend.py example\")\n",
      "\n",
      "hold()\n",
      "\n",
      "scatter(x,y, tools=\"pan,zoom,resize\", legend=\"sin(x)\")\n",
      "scatter(x,2*y, tools=\"pan,zoom,resize\", legend=\"2*sin(x)\")\n",
      "scatter(x,3*y, color=\"green\", tools=\"pan,zoom,resize\", legend=\"3*sin(x)\")\n",
      "\n",
      "figure()\n",
      "\n",
      "scatter(x, y, radius=2, tools=\"pan,zoom,resize,select\", legend=\"sin(x)\")\n",
      "line(x, y, radius=2, tools=\"pan,zoom,resize,select\", legend=\"sin(x)\")\n",
      "\n",
      "line(x, 2*y, line_dash=\"4 4\", line_color=\"orange\", line_width=2, legend=\"2*sin(x)\")\n",
      "\n",
      "scatter(x, 3*y, fill_color=None, line_color=\"green\", radius=4, legend=\"3*sin(x)\")\n",
      "line(x, 3*y, fill_color=None, line_color=\"green\", radius=4, legend=\"3*sin(x)\")\n"
     ],
     "language": "python",
     "metadata": {},
     "outputs": [
      {
       "output_type": "stream",
       "stream": "stdout",
       "text": [
        "Using plot server at http://localhost:5006/bokeh; Docname: legend.py example\n"
       ]
      },
      {
       "output_type": "stream",
       "stream": "stderr",
       "text": [
        "/Users/paddy/anaconda/lib/python2.7/site-packages/pytz/__init__.py:35: UserWarning: Module argparse was already imported from /Users/paddy/anaconda/lib/python2.7/argparse.pyc, but /Users/paddy/anaconda/lib/python2.7/site-packages is being added to sys.path\n",
        "  from pkg_resources import resource_stream\n"
       ]
      },
      {
       "metadata": {},
       "output_type": "pyout",
       "prompt_number": 1,
       "text": [
        "<bokeh.objects.Plot at 0x10818e390>"
       ]
      }
     ],
     "prompt_number": 1
    },
    {
     "cell_type": "markdown",
     "metadata": {},
     "source": [
      "Make sure that you have the bokeh plot server window open, and you can see the plots opening as we go along, no need to reload the page.\n",
      "    Let's do a Lorenz curve"
     ]
    },
    {
     "cell_type": "code",
     "collapsed": false,
     "input": [
      "import numpy as np\n",
      "from scipy.integrate import odeint\n",
      "from bokeh.plotting import *\n",
      "\n",
      "\n",
      "sigma = 10\n",
      "rho = 28\n",
      "beta = 8.0/3\n",
      "theta = 3 * np.pi / 4\n",
      "\n",
      "def lorenz(xyz, t):\n",
      "    x, y, z = xyz\n",
      "    x_dot = sigma * (y - x)\n",
      "    y_dot = x * rho - x * z - y\n",
      "    z_dot = x * y - beta* z\n",
      "    return [x_dot, y_dot, z_dot]\n",
      "\n",
      "initial = (-10, -7, 35)\n",
      "t = np.arange(0, 100, 0.001)\n",
      "\n",
      "solution = odeint(lorenz, initial, t)\n",
      "\n",
      "x = solution[:, 0]\n",
      "y = solution[:, 1]\n",
      "z = solution[:, 2]\n",
      "xprime = np.cos(theta) * x - np.sin(theta) * y\n",
      "\n",
      "output_server(\"lorenz.py example\")\n",
      "colors = [\"#C6DBEF\", \"#9ECAE1\", \"#6BAED6\", \"#4292C6\", \"#2171B5\", \"#08519C\", \"#08306B\",]\n",
      "\n",
      "\n",
      "multi_line(np.array_split(xprime, 7), np.array_split(z, 7),\n",
      "           line_color=colors, line_alpha=0.8, line_width=1.5,\n",
      "           tools=\"pan,zoom,resize\", title=\"lorenz example\")\n",
      "\n"
     ],
     "language": "python",
     "metadata": {},
     "outputs": [
      {
       "ename": "ValueError",
       "evalue": "No JSON object could be decoded",
       "output_type": "pyerr",
       "traceback": [
        "\u001b[0;31m---------------------------------------------------------------------------\u001b[0m\n\u001b[0;31mValueError\u001b[0m                                Traceback (most recent call last)",
        "\u001b[0;32m<ipython-input-2-145713ec6e19>\u001b[0m in \u001b[0;36m<module>\u001b[0;34m()\u001b[0m\n\u001b[1;32m     26\u001b[0m \u001b[0mxprime\u001b[0m \u001b[0;34m=\u001b[0m \u001b[0mnp\u001b[0m\u001b[0;34m.\u001b[0m\u001b[0mcos\u001b[0m\u001b[0;34m(\u001b[0m\u001b[0mtheta\u001b[0m\u001b[0;34m)\u001b[0m \u001b[0;34m*\u001b[0m \u001b[0mx\u001b[0m \u001b[0;34m-\u001b[0m \u001b[0mnp\u001b[0m\u001b[0;34m.\u001b[0m\u001b[0msin\u001b[0m\u001b[0;34m(\u001b[0m\u001b[0mtheta\u001b[0m\u001b[0;34m)\u001b[0m \u001b[0;34m*\u001b[0m \u001b[0my\u001b[0m\u001b[0;34m\u001b[0m\u001b[0m\n\u001b[1;32m     27\u001b[0m \u001b[0;34m\u001b[0m\u001b[0m\n\u001b[0;32m---> 28\u001b[0;31m \u001b[0moutput_server\u001b[0m\u001b[0;34m(\u001b[0m\u001b[0;34m\"lorenz.py example\"\u001b[0m\u001b[0;34m)\u001b[0m\u001b[0;34m\u001b[0m\u001b[0m\n\u001b[0m\u001b[1;32m     29\u001b[0m \u001b[0mcolors\u001b[0m \u001b[0;34m=\u001b[0m \u001b[0;34m[\u001b[0m\u001b[0;34m\"#C6DBEF\"\u001b[0m\u001b[0;34m,\u001b[0m \u001b[0;34m\"#9ECAE1\"\u001b[0m\u001b[0;34m,\u001b[0m \u001b[0;34m\"#6BAED6\"\u001b[0m\u001b[0;34m,\u001b[0m \u001b[0;34m\"#4292C6\"\u001b[0m\u001b[0;34m,\u001b[0m \u001b[0;34m\"#2171B5\"\u001b[0m\u001b[0;34m,\u001b[0m \u001b[0;34m\"#08519C\"\u001b[0m\u001b[0;34m,\u001b[0m \u001b[0;34m\"#08306B\"\u001b[0m\u001b[0;34m,\u001b[0m\u001b[0;34m]\u001b[0m\u001b[0;34m\u001b[0m\u001b[0m\n\u001b[1;32m     30\u001b[0m \u001b[0;34m\u001b[0m\u001b[0m\n",
        "\u001b[0;32m/Users/paddy/Desktop/bokeh_tutorial/bokeh/bokeh/plotting.pyc\u001b[0m in \u001b[0;36moutput_server\u001b[0;34m(docname, url, **kwargs)\u001b[0m\n\u001b[1;32m    207\u001b[0m         \u001b[0;32mimport\u001b[0m \u001b[0msys\u001b[0m\u001b[0;34m\u001b[0m\u001b[0m\n\u001b[1;32m    208\u001b[0m         \u001b[0msys\u001b[0m\u001b[0;34m.\u001b[0m\u001b[0mexit\u001b[0m\u001b[0;34m(\u001b[0m\u001b[0;36m1\u001b[0m\u001b[0;34m)\u001b[0m\u001b[0;34m\u001b[0m\u001b[0m\n\u001b[0;32m--> 209\u001b[0;31m     \u001b[0m_config\u001b[0m\u001b[0;34m[\u001b[0m\u001b[0;34m\"session\"\u001b[0m\u001b[0;34m]\u001b[0m\u001b[0;34m.\u001b[0m\u001b[0muse_doc\u001b[0m\u001b[0;34m(\u001b[0m\u001b[0mdocname\u001b[0m\u001b[0;34m)\u001b[0m\u001b[0;34m\u001b[0m\u001b[0m\n\u001b[0m\u001b[1;32m    210\u001b[0m \u001b[0;34m\u001b[0m\u001b[0m\n\u001b[1;32m    211\u001b[0m     \u001b[0;32mprint\u001b[0m \u001b[0;34m\"Using plot server at\"\u001b[0m\u001b[0;34m,\u001b[0m \u001b[0mreal_url\u001b[0m \u001b[0;34m+\u001b[0m \u001b[0;34m\"bokeh;\"\u001b[0m\u001b[0;34m,\u001b[0m \u001b[0;34m\"Docname:\"\u001b[0m\u001b[0;34m,\u001b[0m \u001b[0mdocname\u001b[0m\u001b[0;34m\u001b[0m\u001b[0m\n",
        "\u001b[0;32m/Users/paddy/Desktop/bokeh_tutorial/bokeh/bokeh/session.pyc\u001b[0m in \u001b[0;36muse_doc\u001b[0;34m(self, name)\u001b[0m\n\u001b[1;32m    547\u001b[0m         \u001b[0;32melif\u001b[0m \u001b[0mlen\u001b[0m\u001b[0;34m(\u001b[0m\u001b[0mmatching\u001b[0m\u001b[0;34m)\u001b[0m \u001b[0;34m>\u001b[0m \u001b[0;36m1\u001b[0m\u001b[0;34m:\u001b[0m\u001b[0;34m\u001b[0m\u001b[0m\n\u001b[1;32m    548\u001b[0m             \u001b[0mlogger\u001b[0m\u001b[0;34m.\u001b[0m\u001b[0mwarning\u001b[0m\u001b[0;34m(\u001b[0m\u001b[0;34m\"Multiple documents with title '%s'\"\u001b[0m \u001b[0;34m%\u001b[0m \u001b[0mname\u001b[0m\u001b[0;34m)\u001b[0m\u001b[0;34m\u001b[0m\u001b[0m\n\u001b[0;32m--> 549\u001b[0;31m         \u001b[0mself\u001b[0m\u001b[0;34m.\u001b[0m\u001b[0mload_doc\u001b[0m\u001b[0;34m(\u001b[0m\u001b[0mmatching\u001b[0m\u001b[0;34m[\u001b[0m\u001b[0;36m0\u001b[0m\u001b[0;34m]\u001b[0m\u001b[0;34m[\u001b[0m\u001b[0;34m'docid'\u001b[0m\u001b[0;34m]\u001b[0m\u001b[0;34m)\u001b[0m\u001b[0;34m\u001b[0m\u001b[0m\n\u001b[0m\u001b[1;32m    550\u001b[0m \u001b[0;34m\u001b[0m\u001b[0m\n\u001b[1;32m    551\u001b[0m     \u001b[0;32mdef\u001b[0m \u001b[0mmake_source\u001b[0m\u001b[0;34m(\u001b[0m\u001b[0mself\u001b[0m\u001b[0;34m,\u001b[0m \u001b[0;34m*\u001b[0m\u001b[0margs\u001b[0m\u001b[0;34m,\u001b[0m \u001b[0;34m**\u001b[0m\u001b[0mkwargs\u001b[0m\u001b[0;34m)\u001b[0m\u001b[0;34m:\u001b[0m\u001b[0;34m\u001b[0m\u001b[0m\n",
        "\u001b[0;32m/Users/paddy/Desktop/bokeh_tutorial/bokeh/bokeh/session.pyc\u001b[0m in \u001b[0;36mload_doc\u001b[0;34m(self, docid)\u001b[0m\n\u001b[1;32m    503\u001b[0m             \u001b[0mself\u001b[0m\u001b[0;34m.\u001b[0m\u001b[0mapikey\u001b[0m \u001b[0;34m=\u001b[0m \u001b[0mapikey\u001b[0m\u001b[0;34m[\u001b[0m\u001b[0;34m'readonlyapikey'\u001b[0m\u001b[0;34m]\u001b[0m\u001b[0;34m\u001b[0m\u001b[0m\n\u001b[1;32m    504\u001b[0m             \u001b[0mlogger\u001b[0m\u001b[0;34m.\u001b[0m\u001b[0minfo\u001b[0m\u001b[0;34m(\u001b[0m\u001b[0;34m'got read only apikey'\u001b[0m\u001b[0;34m)\u001b[0m\u001b[0;34m\u001b[0m\u001b[0m\n\u001b[0;32m--> 505\u001b[0;31m         \u001b[0mself\u001b[0m\u001b[0;34m.\u001b[0m\u001b[0mload_all\u001b[0m\u001b[0;34m(\u001b[0m\u001b[0;34m)\u001b[0m\u001b[0;34m\u001b[0m\u001b[0m\n\u001b[0m\u001b[1;32m    506\u001b[0m         \u001b[0mplotcontext\u001b[0m \u001b[0;34m=\u001b[0m \u001b[0mself\u001b[0m\u001b[0;34m.\u001b[0m\u001b[0mload_type\u001b[0m\u001b[0;34m(\u001b[0m\u001b[0;34m'PlotContext'\u001b[0m\u001b[0;34m)\u001b[0m\u001b[0;34m\u001b[0m\u001b[0m\n\u001b[1;32m    507\u001b[0m         \u001b[0;32mif\u001b[0m \u001b[0mlen\u001b[0m\u001b[0;34m(\u001b[0m\u001b[0mplotcontext\u001b[0m\u001b[0;34m)\u001b[0m\u001b[0;34m:\u001b[0m\u001b[0;34m\u001b[0m\u001b[0m\n",
        "\u001b[0;32m/Users/paddy/Desktop/bokeh_tutorial/bokeh/bokeh/session.pyc\u001b[0m in \u001b[0;36mload_all\u001b[0;34m(self, asdict)\u001b[0m\n\u001b[1;32m    659\u001b[0m         \"\"\"\n\u001b[1;32m    660\u001b[0m         \u001b[0murl\u001b[0m \u001b[0;34m=\u001b[0m \u001b[0mutils\u001b[0m\u001b[0;34m.\u001b[0m\u001b[0murljoin\u001b[0m\u001b[0;34m(\u001b[0m\u001b[0mself\u001b[0m\u001b[0;34m.\u001b[0m\u001b[0mbase_url\u001b[0m\u001b[0;34m,\u001b[0m \u001b[0mself\u001b[0m\u001b[0;34m.\u001b[0m\u001b[0mdocid\u001b[0m \u001b[0;34m+\u001b[0m\u001b[0;34m\"/\"\u001b[0m\u001b[0;34m)\u001b[0m\u001b[0;34m\u001b[0m\u001b[0m\n\u001b[0;32m--> 661\u001b[0;31m         \u001b[0mattrs\u001b[0m \u001b[0;34m=\u001b[0m \u001b[0mprotocol\u001b[0m\u001b[0;34m.\u001b[0m\u001b[0mdeserialize_json\u001b[0m\u001b[0;34m(\u001b[0m\u001b[0mself\u001b[0m\u001b[0;34m.\u001b[0m\u001b[0mhttp_session\u001b[0m\u001b[0;34m.\u001b[0m\u001b[0mget\u001b[0m\u001b[0;34m(\u001b[0m\u001b[0murl\u001b[0m\u001b[0;34m)\u001b[0m\u001b[0;34m.\u001b[0m\u001b[0mcontent\u001b[0m\u001b[0;34m)\u001b[0m\u001b[0;34m\u001b[0m\u001b[0m\n\u001b[0m\u001b[1;32m    662\u001b[0m         \u001b[0;32mif\u001b[0m \u001b[0;32mnot\u001b[0m \u001b[0masdict\u001b[0m\u001b[0;34m:\u001b[0m\u001b[0;34m\u001b[0m\u001b[0m\n\u001b[1;32m    663\u001b[0m             \u001b[0mmodels\u001b[0m \u001b[0;34m=\u001b[0m \u001b[0mself\u001b[0m\u001b[0;34m.\u001b[0m\u001b[0mload_broadcast_attrs\u001b[0m\u001b[0;34m(\u001b[0m\u001b[0mattrs\u001b[0m\u001b[0;34m)\u001b[0m\u001b[0;34m\u001b[0m\u001b[0m\n",
        "\u001b[0;32m/Users/paddy/anaconda/lib/python2.7/json/__init__.pyc\u001b[0m in \u001b[0;36mloads\u001b[0;34m(s, encoding, cls, object_hook, parse_float, parse_int, parse_constant, object_pairs_hook, **kw)\u001b[0m\n\u001b[1;32m    336\u001b[0m             \u001b[0mparse_int\u001b[0m \u001b[0;32mis\u001b[0m \u001b[0mNone\u001b[0m \u001b[0;32mand\u001b[0m \u001b[0mparse_float\u001b[0m \u001b[0;32mis\u001b[0m \u001b[0mNone\u001b[0m \u001b[0;32mand\u001b[0m\u001b[0;34m\u001b[0m\u001b[0m\n\u001b[1;32m    337\u001b[0m             parse_constant is None and object_pairs_hook is None and not kw):\n\u001b[0;32m--> 338\u001b[0;31m         \u001b[0;32mreturn\u001b[0m \u001b[0m_default_decoder\u001b[0m\u001b[0;34m.\u001b[0m\u001b[0mdecode\u001b[0m\u001b[0;34m(\u001b[0m\u001b[0ms\u001b[0m\u001b[0;34m)\u001b[0m\u001b[0;34m\u001b[0m\u001b[0m\n\u001b[0m\u001b[1;32m    339\u001b[0m     \u001b[0;32mif\u001b[0m \u001b[0mcls\u001b[0m \u001b[0;32mis\u001b[0m \u001b[0mNone\u001b[0m\u001b[0;34m:\u001b[0m\u001b[0;34m\u001b[0m\u001b[0m\n\u001b[1;32m    340\u001b[0m         \u001b[0mcls\u001b[0m \u001b[0;34m=\u001b[0m \u001b[0mJSONDecoder\u001b[0m\u001b[0;34m\u001b[0m\u001b[0m\n",
        "\u001b[0;32m/Users/paddy/anaconda/lib/python2.7/json/decoder.pyc\u001b[0m in \u001b[0;36mdecode\u001b[0;34m(self, s, _w)\u001b[0m\n\u001b[1;32m    363\u001b[0m \u001b[0;34m\u001b[0m\u001b[0m\n\u001b[1;32m    364\u001b[0m         \"\"\"\n\u001b[0;32m--> 365\u001b[0;31m         \u001b[0mobj\u001b[0m\u001b[0;34m,\u001b[0m \u001b[0mend\u001b[0m \u001b[0;34m=\u001b[0m \u001b[0mself\u001b[0m\u001b[0;34m.\u001b[0m\u001b[0mraw_decode\u001b[0m\u001b[0;34m(\u001b[0m\u001b[0ms\u001b[0m\u001b[0;34m,\u001b[0m \u001b[0midx\u001b[0m\u001b[0;34m=\u001b[0m\u001b[0m_w\u001b[0m\u001b[0;34m(\u001b[0m\u001b[0ms\u001b[0m\u001b[0;34m,\u001b[0m \u001b[0;36m0\u001b[0m\u001b[0;34m)\u001b[0m\u001b[0;34m.\u001b[0m\u001b[0mend\u001b[0m\u001b[0;34m(\u001b[0m\u001b[0;34m)\u001b[0m\u001b[0;34m)\u001b[0m\u001b[0;34m\u001b[0m\u001b[0m\n\u001b[0m\u001b[1;32m    366\u001b[0m         \u001b[0mend\u001b[0m \u001b[0;34m=\u001b[0m \u001b[0m_w\u001b[0m\u001b[0;34m(\u001b[0m\u001b[0ms\u001b[0m\u001b[0;34m,\u001b[0m \u001b[0mend\u001b[0m\u001b[0;34m)\u001b[0m\u001b[0;34m.\u001b[0m\u001b[0mend\u001b[0m\u001b[0;34m(\u001b[0m\u001b[0;34m)\u001b[0m\u001b[0;34m\u001b[0m\u001b[0m\n\u001b[1;32m    367\u001b[0m         \u001b[0;32mif\u001b[0m \u001b[0mend\u001b[0m \u001b[0;34m!=\u001b[0m \u001b[0mlen\u001b[0m\u001b[0;34m(\u001b[0m\u001b[0ms\u001b[0m\u001b[0;34m)\u001b[0m\u001b[0;34m:\u001b[0m\u001b[0;34m\u001b[0m\u001b[0m\n",
        "\u001b[0;32m/Users/paddy/anaconda/lib/python2.7/json/decoder.pyc\u001b[0m in \u001b[0;36mraw_decode\u001b[0;34m(self, s, idx)\u001b[0m\n\u001b[1;32m    381\u001b[0m             \u001b[0mobj\u001b[0m\u001b[0;34m,\u001b[0m \u001b[0mend\u001b[0m \u001b[0;34m=\u001b[0m \u001b[0mself\u001b[0m\u001b[0;34m.\u001b[0m\u001b[0mscan_once\u001b[0m\u001b[0;34m(\u001b[0m\u001b[0ms\u001b[0m\u001b[0;34m,\u001b[0m \u001b[0midx\u001b[0m\u001b[0;34m)\u001b[0m\u001b[0;34m\u001b[0m\u001b[0m\n\u001b[1;32m    382\u001b[0m         \u001b[0;32mexcept\u001b[0m \u001b[0mStopIteration\u001b[0m\u001b[0;34m:\u001b[0m\u001b[0;34m\u001b[0m\u001b[0m\n\u001b[0;32m--> 383\u001b[0;31m             \u001b[0;32mraise\u001b[0m \u001b[0mValueError\u001b[0m\u001b[0;34m(\u001b[0m\u001b[0;34m\"No JSON object could be decoded\"\u001b[0m\u001b[0;34m)\u001b[0m\u001b[0;34m\u001b[0m\u001b[0m\n\u001b[0m\u001b[1;32m    384\u001b[0m         \u001b[0;32mreturn\u001b[0m \u001b[0mobj\u001b[0m\u001b[0;34m,\u001b[0m \u001b[0mend\u001b[0m\u001b[0;34m\u001b[0m\u001b[0m\n",
        "\u001b[0;31mValueError\u001b[0m: No JSON object could be decoded"
       ]
      }
     ],
     "prompt_number": 2
    },
    {
     "cell_type": "code",
     "collapsed": false,
     "input": [
      "!pwd"
     ],
     "language": "python",
     "metadata": {},
     "outputs": [
      {
       "output_type": "stream",
       "stream": "stdout",
       "text": [
        "/Users/paddy/Desktop/bokeh_tutorial\r\n"
       ]
      }
     ],
     "prompt_number": 3
    },
    {
     "cell_type": "markdown",
     "metadata": {},
     "source": [
      "let's play with this example a little bit"
     ]
    },
    {
     "cell_type": "code",
     "collapsed": false,
     "input": [],
     "language": "python",
     "metadata": {},
     "outputs": []
    },
    {
     "cell_type": "code",
     "collapsed": false,
     "input": [
      "\n",
      "from datetime import date\n",
      "import time\n",
      "import numpy as np\n",
      "from bokeh.plotting import *\n",
      "\n",
      "# Make a series of days\n",
      "today = time.mktime(date.today().timetuple())*1000\n",
      "Ndays = 6\n",
      "times = np.linspace(today, today+Ndays*24*3600*1000, Ndays)\n",
      "\n",
      "prodpnl = np.array([1000, 800, 1100, 1150, 950, 750])\n",
      "aggpnl = np.array([[350, 200, 500],\n",
      "                [300, 150, 150],\n",
      "                [275, 350, 400],\n",
      "                [400, 350, 295],\n",
      "                [425, 210, 250],\n",
      "                [300, 280, 280]])\n",
      "\n",
      "colors = [\"#1f77b4\", \"#ff7f0e\", \"#ffbb78\", \"#2ca02c\", \"#98df8a\",\n",
      "\"#d62728\", \"#ff9896\", \"#9467bd\", \"#c5b0d5\", ]\n",
      "\n",
      "output_file(\"groupbars.html\", js=\"relative\", css=\"relative\")\n",
      "\n",
      "# Because we don't have a groupedbars primitive yet, manually shift the times\n",
      "# by creating two datasources\n",
      "width = 0.8 * 24*3600*1000\n",
      "hold()\n",
      "# quad(left, right, top, bottom)\n",
      "quad(times-width/2, times, prodpnl, np.zeros(len(times)), x_axis_type=\"datetime\",\n",
      "      fill_color=colors[0])\n",
      "base_y = np.zeros(len(times), dtype=int)\n",
      "for colnum in range(aggpnl.shape[1]):\n",
      "  y = aggpnl[:,colnum]\n",
      "  # Tricky: have to remember to make a copy of base_y here since we are\n",
      "  # updating it through the loop\n",
      "  quad(times, times+width/2, y+base_y, base_y.copy(),\n",
      "      x_axis_type=\"datetime\", fill_color=colors[colnum % len(colors)+1])\n",
      "  base_y += y\n",
      "\n",
      "show()\n"
     ],
     "language": "python",
     "metadata": {},
     "outputs": [],
     "prompt_number": 1
    },
    {
     "cell_type": "markdown",
     "metadata": {},
     "source": [
      "So that's how the plot server interface works, let's try the "
     ]
    }
   ],
   "metadata": {}
  }
 ]
}